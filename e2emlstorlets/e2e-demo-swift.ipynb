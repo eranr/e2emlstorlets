{
 "cells": [
  {
   "cell_type": "code",
   "execution_count": 12,
   "metadata": {
    "collapsed": false,
    "deletable": true,
    "editable": true
   },
   "outputs": [],
   "source": [
    "import time\n",
    "import json\n",
    "%reload_ext e2emlstorlets.tools.ipython"
   ]
  },
  {
   "cell_type": "code",
   "execution_count": 3,
   "metadata": {
    "collapsed": true,
    "deletable": true,
    "editable": true
   },
   "outputs": [],
   "source": [
    "import os\n",
    "os.environ['OS_AUTH_VERSION'] = '3'\n",
    "os.environ['OS_AUTH_URL'] = 'http://127.0.0.1:5000/v3'\n",
    "os.environ['OS_USERNAME'] = 'tester'\n",
    "os.environ['OS_PASSWORD'] = 'testing'\n",
    "os.environ['OS_USER_DOMAIN_NAME'] = 'default'\n",
    "os.environ['OS_PROJECT_DOMAIN_NAME'] = 'default'\n",
    "os.environ['OS_PROJECT_NAME'] = 'test'"
   ]
  },
  {
   "cell_type": "code",
   "execution_count": 4,
   "metadata": {
    "collapsed": false,
    "deletable": true,
    "editable": true
   },
   "outputs": [
    {
     "name": "stdout",
     "output_type": "stream",
     "text": [
      "Upload storlets succeeded /storlet/extract_face.py\n",
      "Example command `swift download <container> <object> -H X-Run-Storlet:extract_face.py`\n"
     ]
    }
   ],
   "source": [
    "%%storletapp extract_face.ExtractFace\n",
    "import cv2\n",
    "import numpy as np\n",
    "\n",
    "def detect(im):\n",
    "    mat=cv2.imdecode(im, cv2.IMREAD_GRAYSCALE)\n",
    "    cascade = cv2.CascadeClassifier(\"/usr/local/share/OpenCV/haarcascades/haarcascade_frontalface_alt.xml\")\n",
    "    rects = cascade.detectMultiScale(mat)\n",
    "\n",
    "    if len(rects) == 0:\n",
    "        return [], mat\n",
    "    rects[:, 2:] += rects[:, :2]\n",
    "    rect = rects[0]\n",
    "    return mat, rect\n",
    "\n",
    "def crop(img, rect):\n",
    "    h = rect[3]-rect[1]\n",
    "    w = rect[2]-rect[0]\n",
    "    x = rect[0]\n",
    "    y = rect[1]\n",
    "    return img[y:y+h, x:x+w]\n",
    "\n",
    "class ExtractFace(object):\n",
    "    def __init__(self, logger):\n",
    "        self.logger = logger\n",
    "\n",
    "    def __call__(self, in_files, out_files, params):\n",
    "        metadata = in_files[0].get_metadata()\n",
    "        out_files[0].set_metadata(metadata)\n",
    "\n",
    "        # Read the image\n",
    "        img_str = ''\n",
    "        while True:\n",
    "            buf = in_files[0].read(1024)\n",
    "            if not buf:\n",
    "                break\n",
    "            img_str += buf\n",
    "        img_nparr = np.fromstring(img_str, np.uint8)\n",
    "        \n",
    "        # Detect face\n",
    "        mat, rect = detect(img_nparr)\n",
    "\n",
    "        # Crop the face and decrease resolution\n",
    "        face = crop(mat, rect)\n",
    "        small_face = cv2.resize(face, (30,30))\n",
    "        \n",
    "        # Write result\n",
    "        retval, small_face_buf = cv2.imencode('.jpg', small_face)\n",
    "        out_files[0].write(small_face_buf)\n",
    "        \n",
    "        in_files[0].close()\n",
    "        out_files[0].close()\n",
    "        self.logger.debug('Done\\n')"
   ]
  },
  {
   "cell_type": "code",
   "execution_count": 7,
   "metadata": {
    "collapsed": false,
    "deletable": true,
    "editable": true
   },
   "outputs": [
    {
     "name": "stdout",
     "output_type": "stream",
     "text": [
      "Done extracting faces in 16\n"
     ]
    }
   ],
   "source": [
    "# Iterate over all puctures, and extract faces\n",
    "start_time = time.time()\n",
    "%list_container -i tr -o obj_list\n",
    "for obj in obj_list:\n",
    "    input_path=os.path.join('/tr',obj)\n",
    "    output_path=os.path.join('/str',obj)\n",
    "    %copy --storlet extract_face.py --input path:$input_path --output path:$output_path -o result\n",
    "extract_faces_time = time.time() - start_time\n",
    "print('Done extracting faces in %d seconds' % round(extract_faces_time))"
   ]
  },
  {
   "cell_type": "code",
   "execution_count": 28,
   "metadata": {
    "collapsed": false,
    "deletable": true,
    "editable": true
   },
   "outputs": [
    {
     "name": "stdout",
     "output_type": "stream",
     "text": [
      "201\n"
     ]
    }
   ],
   "source": [
    "# Train the model with all faces and name to id dictionary\n",
    "start_time = time.time()\n",
    "name_to_id = {'bibi': 1, 'merkel': 2, 'obama': 3, 'trump': 4}\n",
    "params = {'name_to_id': json.dumps(name_to_id)}\n",
    "input_path = os.path.join('path:str/', obj_list[0])\n",
    "extra_resources = ','.join([ '/str/%s' % obj_name for obj_name in obj_list[1:]])\n",
    "output_path = 'path:/trained/model'\n",
    "%copy --storlet train_model.py --input $input_path --output $output_path --extra $extra_resources -i params -o result\n",
    "train_model_time = time.time() - start_time\n",
    "print('Model training done in %d seconds' % round(train_model_time))"
   ]
  },
  {
   "cell_type": "code",
   "execution_count": 29,
   "metadata": {
    "collapsed": false,
    "deletable": true,
    "editable": true
   },
   "outputs": [
    {
     "name": "stdout",
     "output_type": "stream",
     "text": [
      "201\n"
     ]
    }
   ],
   "source": [
    "# Swap the face\n",
    "start_time = time.time()\n",
    "input_path = 'path:/video/eran_mov.avi'\n",
    "output_path = 'path:/video/eran_swapped_mov.avi'\n",
    "extra_resources = '/te/bibi_test1.jpeg'\n",
    "%copy --storlet video_swap_face.py --input $input_path --output $output_path --extra $extra_resources -o result\n",
    "swap_faces_time = time.time() - start_time\n",
    "print('Swap facing done in %d seconds' % round(swap_faces_time))"
   ]
  },
  {
   "cell_type": "code",
   "execution_count": 30,
   "metadata": {
    "collapsed": false,
    "deletable": true,
    "editable": true
   },
   "outputs": [
    {
     "name": "stdout",
     "output_type": "stream",
     "text": [
      "201\n"
     ]
    }
   ],
   "source": [
    "# Add face recognition tag\n",
    "start_time = time.time()\n",
    "input_path = 'path:/video/eran_swapped_mov.avi'\n",
    "output_path = 'path:/video/tagged_mov.avi'\n",
    "extra_resources = '/trained/model'\n",
    "%copy --storlet video_recognize_face.py --input $input_path --output $output_path --extra $extra_resources -o result\n",
    "recognize_face_time = time.time() - start_time\n",
    "print('Recognize face done in %d seconds' % round(recognize_face_time))"
   ]
  },
  {
   "cell_type": "code",
   "execution_count": 13,
   "metadata": {
    "collapsed": true,
    "deletable": true,
    "editable": true
   },
   "outputs": [],
   "source": [
    "%play_video -c video -v eran_mov.avi"
   ]
  },
  {
   "cell_type": "code",
   "execution_count": null,
   "metadata": {
    "collapsed": true
   },
   "outputs": [],
   "source": []
  }
 ],
 "metadata": {
  "kernelspec": {
   "display_name": "Python 2",
   "language": "python",
   "name": "python2"
  },
  "language_info": {
   "codemirror_mode": {
    "name": "ipython",
    "version": 2
   },
   "file_extension": ".py",
   "mimetype": "text/x-python",
   "name": "python",
   "nbconvert_exporter": "python",
   "pygments_lexer": "ipython2",
   "version": "2.7.12"
  }
 },
 "nbformat": 4,
 "nbformat_minor": 2
}
