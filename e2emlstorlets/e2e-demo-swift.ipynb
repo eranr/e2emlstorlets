{
 "cells": [
  {
   "cell_type": "code",
   "execution_count": null,
   "metadata": {
    "collapsed": false,
    "deletable": true,
    "editable": true
   },
   "outputs": [],
   "source": [
    "import os\n",
    "import time\n",
    "import json\n",
    "%reload_ext e2emlstorlets.tools.ipython"
   ]
  },
  {
   "cell_type": "code",
   "execution_count": null,
   "metadata": {
    "collapsed": true,
    "deletable": true,
    "editable": true
   },
   "outputs": [],
   "source": [
    "os.environ['OS_AUTH_VERSION'] = '3'\n",
    "os.environ['OS_AUTH_URL'] = 'http://127.0.0.1:5000/v3'\n",
    "os.environ['OS_USERNAME'] = 'tester'\n",
    "os.environ['OS_PASSWORD'] = 'testing'\n",
    "os.environ['OS_USER_DOMAIN_NAME'] = 'default'\n",
    "os.environ['OS_PROJECT_DOMAIN_NAME'] = 'default'\n",
    "os.environ['OS_PROJECT_NAME'] = 'test'"
   ]
  },
  {
   "cell_type": "code",
   "execution_count": null,
   "metadata": {
    "collapsed": false,
    "deletable": true,
    "editable": true
   },
   "outputs": [],
   "source": [
    "%%storletapp extract_face.ExtractFace\n",
    "import cv2\n",
    "import numpy as np\n",
    "\n",
    "def detect(im):\n",
    "    mat=cv2.imdecode(im, cv2.IMREAD_GRAYSCALE)\n",
    "    cascade = cv2.CascadeClassifier(\"/usr/local/share/OpenCV/haarcascades/haarcascade_frontalface_alt2.xml\")\n",
    "    rects = cascade.detectMultiScale(mat)\n",
    "\n",
    "    if len(rects) == 0:\n",
    "        return [], mat\n",
    "    rects[:, 2:] += rects[:, :2]\n",
    "    rect = rects[0]\n",
    "    return mat, rect\n",
    "\n",
    "def crop(img, rect):\n",
    "    h = rect[3]-rect[1]\n",
    "    w = rect[2]-rect[0]\n",
    "    x = rect[0]\n",
    "    y = rect[1]\n",
    "    hm = int(0.1 * h)\n",
    "    if y < hm:\n",
    "        h = h + (hm - y)\n",
    "        hm = y\n",
    "    return img[y-hm:y+h, x:x+w]\n",
    "\n",
    "class ExtractFace(object):\n",
    "    def __init__(self, logger):\n",
    "        self.logger = logger\n",
    "\n",
    "    def __call__(self, in_files, out_files, params):\n",
    "        metadata = in_files[0].get_metadata()\n",
    "        out_files[0].set_metadata(metadata)\n",
    "\n",
    "        # Read the image\n",
    "        img_str = ''\n",
    "        while True:\n",
    "            buf = in_files[0].read(1024)\n",
    "            if not buf:\n",
    "                break\n",
    "            img_str += buf\n",
    "        img_nparr = np.fromstring(img_str, np.uint8)\n",
    "        \n",
    "        # Detect face\n",
    "        mat, rect = detect(img_nparr)\n",
    "\n",
    "        # Crop the face and decrease resolution\n",
    "        face = crop(mat, rect)\n",
    "        small_face = cv2.resize(face, (50,55))\n",
    "        \n",
    "        # Write result\n",
    "        retval, small_face_buf = cv2.imencode('.jpg', small_face)\n",
    "        out_files[0].write(small_face_buf)\n",
    "        \n",
    "        in_files[0].close()\n",
    "        out_files[0].close()\n",
    "        self.logger.debug('Done\\n')"
   ]
  },
  {
   "cell_type": "code",
   "execution_count": null,
   "metadata": {
    "collapsed": false,
    "deletable": true,
    "editable": true
   },
   "outputs": [],
   "source": [
    "# Iterate over all pictures, and extract faces\n",
    "start_time = time.time()\n",
    "%list_container -i train -o obj_list\n",
    "for obj in obj_list:\n",
    "    input_path=os.path.join('/train',obj)\n",
    "    output_path=os.path.join('/extracted',obj)\n",
    "    %copy \\\n",
    "        --storlet extract_face.py \\\n",
    "        --input path:$input_path \\\n",
    "        --output path:$output_path \\\n",
    "        -o result\n",
    "extract_faces_time = time.time() - start_time\n",
    "print('Done extracting faces in %d seconds' % round(extract_faces_time))"
   ]
  },
  {
   "cell_type": "code",
   "execution_count": null,
   "metadata": {
    "collapsed": false,
    "deletable": true,
    "editable": true
   },
   "outputs": [],
   "source": [
    "# Show before and after face extraction\n",
    "%show_image --input path:/train/bibi1.jpeg\n",
    "%show_image --input path:/extracted/bibi1.jpeg"
   ]
  },
  {
   "cell_type": "code",
   "execution_count": null,
   "metadata": {
    "collapsed": false,
    "deletable": true,
    "editable": true
   },
   "outputs": [],
   "source": [
    "# Train the model with all faces\n",
    "start_time = time.time()\n",
    "input_path = os.path.join('path:extracted/', obj_list[0])\n",
    "output_path = 'path:/trained/model'\n",
    "extra = ','.join([ '/extracted/%s' % obj_name for obj_name in obj_list[1:]])\n",
    "%copy \\\n",
    "    --storlet train_model.py \\\n",
    "    --input $input_path \\\n",
    "    --output $output_path \\\n",
    "    --extra $extra \\\n",
    "    -o result\n",
    "train_model_time = time.time() - start_time\n",
    "print('Model training done in %d seconds' % round(train_model_time))"
   ]
  },
  {
   "cell_type": "code",
   "execution_count": null,
   "metadata": {
    "collapsed": false,
    "deletable": true,
    "editable": true
   },
   "outputs": [],
   "source": [
    "%play_video -c test -v trump_mov.avi"
   ]
  },
  {
   "cell_type": "code",
   "execution_count": null,
   "metadata": {
    "collapsed": false,
    "deletable": true,
    "editable": true
   },
   "outputs": [],
   "source": [
    "# Add face recognition tag\n",
    "start_time = time.time()\n",
    "input_path = 'path:/test/bibi_mov.avi'\n",
    "output_path = 'path:/video/tagged_bibi_mov.avi'\n",
    "extra_resources = '/trained/model'\n",
    "%copy \\\n",
    "    --storlet video_recognize_face.py \\\n",
    "    --input $input_path \\\n",
    "    --output $output_path \\\n",
    "    --extra $extra_resources \\\n",
    "    -o result\n",
    "recognize_faces_time = time.time() - start_time\n",
    "print('Recognize face done in %d seconds' % round(recognize_faces_time))"
   ]
  },
  {
   "cell_type": "code",
   "execution_count": null,
   "metadata": {
    "collapsed": false,
    "deletable": true,
    "editable": true
   },
   "outputs": [],
   "source": [
    "%play_video -c video -v tagged_bibi_mov.avi"
   ]
  },
  {
   "cell_type": "code",
   "execution_count": null,
   "metadata": {
    "collapsed": false,
    "deletable": true,
    "editable": true
   },
   "outputs": [],
   "source": [
    "# now lets see how this performs when working against S3\n",
    "from e2emlstorlets.s3 import extract_faces, \\\n",
    "    train_model, swap_faces, recognize_faces\n",
    "start_time = time.time()\n",
    "extract_faces.extract_and_upload_all()\n",
    "extract_faces_s3_time = time.time() - start_time\n",
    "print('Done extracting faces in %d seconds' % round(extract_faces_s3_time))\n",
    "\n",
    "start_time = time.time()\n",
    "train_model.train_and_upload_model()\n",
    "train_model_s3_time = time.time() - start_time\n",
    "print('Model training done in %d seconds' % round(train_model_s3_time))\n",
    "\n",
    "start_time = time.time()\n",
    "recognize_faces.get_tag_and_upload(\"bibi_mov.avi\")\n",
    "tag_faces_s3_time = time.time() - start_time\n",
    "print('Recognizing faces done in %d seconds' % round(tag_faces_s3_time))"
   ]
  },
  {
   "cell_type": "code",
   "execution_count": null,
   "metadata": {
    "collapsed": false,
    "deletable": true,
    "editable": true
   },
   "outputs": [],
   "source": [
    "from e2emlstorlets.tools import plot_times\n",
    "plot_times.show_plot(extract_faces_time,\n",
    "                     train_model_time,\n",
    "                     recognize_faces_time,\n",
    "                     extract_faces_s3_time,\n",
    "                     train_model_s3_time,\n",
    "                     tag_faces_s3_time)"
   ]
  },
  {
   "cell_type": "code",
   "execution_count": null,
   "metadata": {
    "collapsed": true,
    "deletable": true,
    "editable": true
   },
   "outputs": [],
   "source": []
  }
 ],
 "metadata": {
  "kernelspec": {
   "display_name": "Python 2",
   "language": "python",
   "name": "python2"
  },
  "language_info": {
   "codemirror_mode": {
    "name": "ipython",
    "version": 2
   },
   "file_extension": ".py",
   "mimetype": "text/x-python",
   "name": "python",
   "nbconvert_exporter": "python",
   "pygments_lexer": "ipython2",
   "version": "2.7.12"
  }
 },
 "nbformat": 4,
 "nbformat_minor": 2
}
